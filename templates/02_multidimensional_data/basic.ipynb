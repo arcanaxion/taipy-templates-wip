{
 "cells": [
  {
   "cell_type": "code",
   "execution_count": null,
   "metadata": {},
   "outputs": [],
   "source": [
    "import plotly.express as px\n",
    "tips_df = px.data.tips()"
   ]
  },
  {
   "cell_type": "code",
   "execution_count": null,
   "metadata": {},
   "outputs": [],
   "source": [
    "main_chart_type_list = [\"scatter\", \"density_contour\"]\n",
    "margin_chart_type_list = [\"histogram\", \"box\", \"violin\"]\n",
    "\n",
    "def create_figure(main_chart_type, margin_chart_type, show_marginal, show_smoker, show_size):\n",
    "    chart_args = {}\n",
    "    if main_chart_type == \"scatter\":\n",
    "        chart_fn = px.scatter\n",
    "    else:\n",
    "        chart_fn = px.density_contour\n",
    "\n",
    "    if show_marginal:\n",
    "        chart_args[\"marginal_x\"] = margin_chart_type\n",
    "        chart_args[\"marginal_y\"] = margin_chart_type\n",
    "    if show_smoker:\n",
    "        chart_args[\"color\"] = \"smoker\"\n",
    "    if show_size and main_chart_type == \"scatter\":\n",
    "        chart_args[\"size\"] = \"size\"\n",
    "\n",
    "    fig = chart_fn(tips_df, x=\"total_bill\", y=\"tip\", **chart_args)\n",
    "    return fig"
   ]
  },
  {
   "cell_type": "code",
   "execution_count": null,
   "metadata": {},
   "outputs": [],
   "source": [
    "main_chart_type = \"scatter\"\n",
    "margin_chart_type = \"box\"\n",
    "show_marginal = True\n",
    "show_smoker = True\n",
    "show_size = True\n",
    "create_figure(main_chart_type, margin_chart_type, show_marginal, show_smoker, show_size)"
   ]
  }
 ],
 "metadata": {
  "kernelspec": {
   "display_name": ".venv",
   "language": "python",
   "name": "python3"
  },
  "language_info": {
   "codemirror_mode": {
    "name": "ipython",
    "version": 3
   },
   "file_extension": ".py",
   "mimetype": "text/x-python",
   "name": "python",
   "nbconvert_exporter": "python",
   "pygments_lexer": "ipython3",
   "version": "3.10.10"
  }
 },
 "nbformat": 4,
 "nbformat_minor": 2
}
