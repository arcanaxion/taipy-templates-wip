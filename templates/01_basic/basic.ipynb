{
 "cells": [
  {
   "cell_type": "code",
   "execution_count": null,
   "metadata": {},
   "outputs": [],
   "source": [
    "import plotly.express as px\n",
    "tips_df = px.data.tips()"
   ]
  },
  {
   "cell_type": "code",
   "execution_count": null,
   "metadata": {},
   "outputs": [],
   "source": [
    "main_chart_type_list = [\"scatter\", \"density_contour\"]\n",
    "margin_chart_type_list = [\"histogram\", \"box\", \"violin\"]\n",
    "\n",
    "def create_figure(main_chart_type, margin_chart_type):\n",
    "    if main_chart_type == \"scatter\":\n",
    "        chart_fn = px.scatter\n",
    "    else:\n",
    "        chart_fn = px.density_contour\n",
    "    fig = chart_fn(tips_df, x=\"total_bill\", y=\"tip\", marginal_x=margin_chart_type, marginal_y=margin_chart_type)\n",
    "    return fig"
   ]
  },
  {
   "cell_type": "code",
   "execution_count": null,
   "metadata": {},
   "outputs": [],
   "source": [
    "main_chart_type = \"scatter\"\n",
    "margin_chart_type = \"histogram\"\n",
    "create_figure(main_chart_type, margin_chart_type)"
   ]
  }
 ],
 "metadata": {
  "kernelspec": {
   "display_name": ".venv",
   "language": "python",
   "name": "python3"
  },
  "language_info": {
   "codemirror_mode": {
    "name": "ipython",
    "version": 3
   },
   "file_extension": ".py",
   "mimetype": "text/x-python",
   "name": "python",
   "nbconvert_exporter": "python",
   "pygments_lexer": "ipython3",
   "version": "3.10.10"
  }
 },
 "nbformat": 4,
 "nbformat_minor": 2
}
